{
  "nbformat": 4,
  "nbformat_minor": 0,
  "metadata": {
    "colab": {
      "name": "Assignment1.ipynb",
      "provenance": [],
      "collapsed_sections": []
    },
    "kernelspec": {
      "name": "python3",
      "display_name": "Python 3"
    }
  },
  "cells": [
    {
      "cell_type": "markdown",
      "metadata": {
        "id": "Ni2x_4GGPaim"
      },
      "source": [
        "#                             **Assignment 1** "
      ]
    },
    {
      "cell_type": "markdown",
      "metadata": {
        "id": "ghEBXsAeP_q6"
      },
      "source": [
        "1)Multiplication table of a number \n"
      ]
    },
    {
      "cell_type": "code",
      "metadata": {
        "id": "WPBjY7hLQGI7",
        "colab": {
          "base_uri": "https://localhost:8080/",
          "height": 235
        },
        "outputId": "a30bb499-3286-4937-c864-fd92c30a796a"
      },
      "source": [
        "number = int(input('enter the number : '))\n",
        "print('multiplication table of',number)\n",
        "for i in range(1,11):\n",
        "  print(number,'x',i,'=',number*i)"
      ],
      "execution_count": null,
      "outputs": [
        {
          "output_type": "stream",
          "text": [
            "enter the number : 2\n",
            "multiplication table of 2\n",
            "2 x 1 = 2\n",
            "2 x 2 = 4\n",
            "2 x 3 = 6\n",
            "2 x 4 = 8\n",
            "2 x 5 = 10\n",
            "2 x 6 = 12\n",
            "2 x 7 = 14\n",
            "2 x 8 = 16\n",
            "2 x 9 = 18\n",
            "2 x 10 = 20\n"
          ],
          "name": "stdout"
        }
      ]
    },
    {
      "cell_type": "markdown",
      "metadata": {
        "id": "76Gpd6vUSW4N"
      },
      "source": [
        "2)Program to print twins "
      ]
    },
    {
      "cell_type": "code",
      "metadata": {
        "id": "gBql-P5eVZLk"
      },
      "source": [
        "def prime(n):\n",
        "  for i in range(2,n):\n",
        "    if n%i == 0:\n",
        "      return False\n",
        "  return True \n",
        "def twin_prime(start,end):\n",
        "   for i in range(start,end):\n",
        "     j = i+2\n",
        "     if ((prime(i)) and (prime(j))== True):\n",
        "       print(\"{0} and {1}\".format(i,j))\n",
        "\n"
      ],
      "execution_count": null,
      "outputs": []
    },
    {
      "cell_type": "code",
      "metadata": {
        "id": "vJgyYvBVYWx4",
        "colab": {
          "base_uri": "https://localhost:8080/",
          "height": 653
        },
        "outputId": "cd2d1712-a9a6-41e7-c53d-139b362b7674"
      },
      "source": [
        "twin_prime(2,1000)"
      ],
      "execution_count": null,
      "outputs": [
        {
          "output_type": "stream",
          "text": [
            "3 and 5\n",
            "5 and 7\n",
            "11 and 13\n",
            "17 and 19\n",
            "29 and 31\n",
            "41 and 43\n",
            "59 and 61\n",
            "71 and 73\n",
            "101 and 103\n",
            "107 and 109\n",
            "137 and 139\n",
            "149 and 151\n",
            "179 and 181\n",
            "191 and 193\n",
            "197 and 199\n",
            "227 and 229\n",
            "239 and 241\n",
            "269 and 271\n",
            "281 and 283\n",
            "311 and 313\n",
            "347 and 349\n",
            "419 and 421\n",
            "431 and 433\n",
            "461 and 463\n",
            "521 and 523\n",
            "569 and 571\n",
            "599 and 601\n",
            "617 and 619\n",
            "641 and 643\n",
            "659 and 661\n",
            "809 and 811\n",
            "821 and 823\n",
            "827 and 829\n",
            "857 and 859\n",
            "881 and 883\n"
          ],
          "name": "stdout"
        }
      ]
    },
    {
      "cell_type": "markdown",
      "metadata": {
        "id": "ts9EgE-odgJv"
      },
      "source": [
        "3)program to find prime factors"
      ]
    },
    {
      "cell_type": "markdown",
      "metadata": {
        "id": "g7l6K0YdwEtp"
      },
      "source": [
        "reference from https://stackoverflow.com/questions/15347174/python-finding-prime-factors"
      ]
    },
    {
      "cell_type": "code",
      "metadata": {
        "id": "XA0qtLKVdnzM"
      },
      "source": [
        "def find_prime_facs(n):\n",
        "  list_of_factors=[]\n",
        "  i=2\n",
        "  while n>1:\n",
        "    if n%i==0:\n",
        "      list_of_factors.append(i)\n",
        "      n=n/i\n",
        "      i=i-1\n",
        "    i+=1  \n",
        "  return list_of_factors\n"
      ],
      "execution_count": null,
      "outputs": []
    },
    {
      "cell_type": "code",
      "metadata": {
        "id": "t1a98q7rveO3",
        "colab": {
          "base_uri": "https://localhost:8080/",
          "height": 35
        },
        "outputId": "efdfcfec-6b90-4939-c774-6760ddcc91bc"
      },
      "source": [
        "find_prime_facs(56)\n",
        "                "
      ],
      "execution_count": null,
      "outputs": [
        {
          "output_type": "execute_result",
          "data": {
            "text/plain": [
              "[2, 2, 2, 7]"
            ]
          },
          "metadata": {
            "tags": []
          },
          "execution_count": 84
        }
      ]
    },
    {
      "cell_type": "markdown",
      "metadata": {
        "id": "3apybGFdwN4q"
      },
      "source": [
        "4)program to implement fromuale of permutations and combinations "
      ]
    },
    {
      "cell_type": "markdown",
      "metadata": {
        "id": "MHb96uIqVShJ"
      },
      "source": [
        "1) Permutations"
      ]
    },
    {
      "cell_type": "code",
      "metadata": {
        "id": "IgjxTOOgVcoj",
        "colab": {
          "base_uri": "https://localhost:8080/",
          "height": 35
        },
        "outputId": "43895670-05d7-4b7b-a980-23162a59868c"
      },
      "source": [
        "import math\n",
        "def fact(n):\n",
        "  if n <=1:\n",
        "    return 1\n",
        "  else:\n",
        "      return n*fact(n-1)\n",
        "def permutation(n,r):\n",
        "  return (math.floor(fact(n)/fact(n-r)))\n",
        "#value of n and r\n",
        "n = 5\n",
        "r = 2\n",
        "print(\"n!/(n-r)!\", \"=\", permutation(n, r)) "
      ],
      "execution_count": null,
      "outputs": [
        {
          "output_type": "stream",
          "text": [
            "n!/(n-r)! = 20\n"
          ],
          "name": "stdout"
        }
      ]
    },
    {
      "cell_type": "markdown",
      "metadata": {
        "id": "Z_h8hy2VZNV-"
      },
      "source": [
        "2)combinations"
      ]
    },
    {
      "cell_type": "code",
      "metadata": {
        "id": "T6zHFnBCZQXu",
        "colab": {
          "base_uri": "https://localhost:8080/",
          "height": 35
        },
        "outputId": "126ca114-b359-4ed1-d9ca-4473ff62622c"
      },
      "source": [
        "import math \n",
        "def fact(n):\n",
        "  if n<=1:\n",
        "    return 1\n",
        "  else:\n",
        "    return n*fact(n-1)\n",
        "\n",
        "def comb(r):\n",
        "  if r <= 1:\n",
        "    return 1\n",
        "  return r*comb(r-1) \n",
        "\n",
        "def combinations(n,r):\n",
        "  return (fact(n)/(comb(r)*fact(n-r)))\n",
        "  #value of n and r \n",
        "  n = 5\n",
        "  r = 2\n",
        "print(\"n! / (r!*(n-r)!)\", \"=\",combinations(n,r))\n",
        "\n"
      ],
      "execution_count": null,
      "outputs": [
        {
          "output_type": "stream",
          "text": [
            "n! / (r!*(n-r)!) = 10.0\n"
          ],
          "name": "stdout"
        }
      ]
    },
    {
      "cell_type": "markdown",
      "metadata": {
        "id": "YRZupJXmoG7D"
      },
      "source": [
        "5) function to convert a decimal number to binary number"
      ]
    },
    {
      "cell_type": "code",
      "metadata": {
        "id": "N5rXq-ZWoOnY",
        "colab": {
          "base_uri": "https://localhost:8080/",
          "height": 35
        },
        "outputId": "0ffd201f-a2d7-407f-8878-e69888b82338"
      },
      "source": [
        "def convert_to_binary(n):\n",
        "  if n>1:\n",
        "    convert_to_binary(n//2)\n",
        "    print(n%2,end='')\n",
        "decimal = 50\n",
        "convert_to_binary(decimal)\n",
        "print()\n",
        "\n"
      ],
      "execution_count": null,
      "outputs": [
        {
          "output_type": "stream",
          "text": [
            "10010\n"
          ],
          "name": "stdout"
        }
      ]
    },
    {
      "cell_type": "markdown",
      "metadata": {
        "id": "xi49DqyRz8Pa"
      },
      "source": [
        "6)function to check armstrong number "
      ]
    },
    {
      "cell_type": "markdown",
      "metadata": {
        "id": "uxM1oxyQ6xZF"
      },
      "source": [
        "# refernce from https://www.youtube.com/watch?v=sfXkqo-qAx8"
      ]
    },
    {
      "cell_type": "code",
      "metadata": {
        "id": "6yfFD3Ls1H2u",
        "colab": {
          "base_uri": "https://localhost:8080/",
          "height": 53
        },
        "outputId": "235de568-12f5-43b8-8755-cf8e6bb1431b"
      },
      "source": [
        "num = int(input('enter the number : '))\n",
        "sum = 0\n",
        "temp = num \n",
        "n = len(str(num))\n",
        "while temp > 0:\n",
        "  digit = temp % 10\n",
        "  sum += digit**n\n",
        "  temp//= 10\n",
        "\n",
        "if sum==num:\n",
        "  print(num,'is an armstrong no')\n",
        "else:\n",
        "  print(num,'is not an armstrong no')\n",
        "\n"
      ],
      "execution_count": null,
      "outputs": [
        {
          "output_type": "stream",
          "text": [
            "enter the number : 153\n",
            "153 is an armstrong no\n"
          ],
          "name": "stdout"
        }
      ]
    },
    {
      "cell_type": "code",
      "metadata": {
        "id": "mNlyi0Cu65vr"
      },
      "source": [
        "7)Product of digits of a number"
      ],
      "execution_count": null,
      "outputs": []
    },
    {
      "cell_type": "markdown",
      "metadata": {
        "id": "O5-Nzl8izxIP"
      },
      "source": [
        ""
      ]
    },
    {
      "cell_type": "code",
      "metadata": {
        "id": "Hy-Dp9LUA11m",
        "colab": {
          "base_uri": "https://localhost:8080/",
          "height": 53
        },
        "outputId": "490a5822-7114-401c-c277-4544fc142588"
      },
      "source": [
        "num = int(input('enter the number : '))\n",
        "a = num\n",
        "product = 1\n",
        "while (a != 0):\n",
        "  product = product*(a%10)\n",
        "  a = int(a/10)\n",
        "\n",
        "print('the product of ',num,'is',product)"
      ],
      "execution_count": null,
      "outputs": [
        {
          "output_type": "stream",
          "text": [
            "enter the number : 123\n",
            "the product of  123 is 6\n"
          ],
          "name": "stdout"
        }
      ]
    },
    {
      "cell_type": "markdown",
      "metadata": {
        "id": "qEBt8HsqEJHe"
      },
      "source": [
        "8)functions for MDR() and M.percistance()"
      ]
    },
    {
      "cell_type": "code",
      "metadata": {
        "id": "8GqTImRCOAdS",
        "colab": {
          "base_uri": "https://localhost:8080/",
          "height": 72
        },
        "outputId": "730faeaa-91f3-4e12-b177-ed61799b84f4"
      },
      "source": [
        "def d_root(num):\n",
        "  a=num\n",
        "  c = 0\n",
        "  while 1:\n",
        "    p=1\n",
        "    c=c+1\n",
        "    while a!=0:\n",
        "      p= p*(a%10)\n",
        "      a= int(a/10)\n",
        "    if p<10:\n",
        "      print('multiplicative percistance is: ',c)\n",
        "      print('multplicative digital root is: ',p)\n",
        "      break\n",
        "    a=p\n",
        "num = int(input('enter the no : '))\n",
        "d_root(num)\n",
        "\n"
      ],
      "execution_count": null,
      "outputs": [
        {
          "output_type": "stream",
          "text": [
            "enter the no : 86\n",
            "multiplicative percistance is:  3\n",
            "multplicative digital root is:  6\n"
          ],
          "name": "stdout"
        }
      ]
    },
    {
      "cell_type": "markdown",
      "metadata": {
        "id": "6buCy8SQVflU"
      },
      "source": [
        "9)sum of proper divisors of a number \n"
      ]
    },
    {
      "cell_type": "markdown",
      "metadata": {
        "id": "WqZZXztZlz7i"
      },
      "source": [
        "reference from https://www.geeksforgeeks.org/sum-of-all-proper-divisors-of-a-natural-number/"
      ]
    },
    {
      "cell_type": "code",
      "metadata": {
        "id": "6S_W1WNLl_nW"
      },
      "source": [
        "import math"
      ],
      "execution_count": null,
      "outputs": []
    },
    {
      "cell_type": "code",
      "metadata": {
        "id": "aMr6dNvamEa3",
        "colab": {
          "base_uri": "https://localhost:8080/",
          "height": 35
        },
        "outputId": "23995442-2bbc-46c9-8403-2cc6a1420305"
      },
      "source": [
        "def sum_divisors(num):\n",
        "  result = 0\n",
        "  i = 2\n",
        "  while i<=(math.sqrt(num)):\n",
        "    if (num%i==0):\n",
        "      if (i==(num/i)):\n",
        "        result = result + i\n",
        "      else:\n",
        "        result = result + (i+num/i)\n",
        "    i = i+1\n",
        "  return(result + 1)\n",
        "num = 54\n",
        "print(sum_divisors(num))"
      ],
      "execution_count": null,
      "outputs": [
        {
          "output_type": "stream",
          "text": [
            "66.0\n"
          ],
          "name": "stdout"
        }
      ]
    },
    {
      "cell_type": "markdown",
      "metadata": {
        "id": "mzfkiznOo3CT"
      },
      "source": [
        ""
      ]
    },
    {
      "cell_type": "markdown",
      "metadata": {
        "id": "a-Hfk-RGt__Q"
      },
      "source": [
        "10)program for a perfect number "
      ]
    },
    {
      "cell_type": "code",
      "metadata": {
        "id": "1SsM3-oHuKkq",
        "colab": {
          "base_uri": "https://localhost:8080/",
          "height": 53
        },
        "outputId": "a93df308-931d-4b8d-d8fc-f1bf10acba90"
      },
      "source": [
        "n = int(input(\"enter any number : \"))\n",
        "sum = 0 \n",
        "for i in range(1,n):\n",
        "  if (n%i==0):\n",
        "      sum = sum+i\n",
        "if sum==n:\n",
        "  print(n,'is a perfect number')\n",
        "else:\n",
        "  print(n,'is not a perfect number')"
      ],
      "execution_count": null,
      "outputs": [
        {
          "output_type": "stream",
          "text": [
            "enter any number : 6\n",
            "6 is a perfect number\n"
          ],
          "name": "stdout"
        }
      ]
    },
    {
      "cell_type": "markdown",
      "metadata": {
        "id": "xurFlQX1vy1F"
      },
      "source": [
        "11)function to print amicable numbers in given range"
      ]
    },
    {
      "cell_type": "markdown",
      "metadata": {
        "id": "Nu72wxeYGTU_"
      },
      "source": [
        "reference from https://stackoverflow.com/questions/56454361/finding-amicable-numbers-in-a-given-range-using-dictionaries-in-python"
      ]
    },
    {
      "cell_type": "code",
      "metadata": {
        "id": "8PL0K6pY-YJT",
        "colab": {
          "base_uri": "https://localhost:8080/",
          "height": 35
        },
        "outputId": "8f91a717-4352-4bbb-bfc4-b820b538b5b8"
      },
      "source": [
        "index1 = 1 \n",
        "index2 = 1000\n",
        "lst = []\n",
        "d = {}\n",
        "for index in range(index1,index2+1):\n",
        "  s=sum(i for i in range(1,index)if index%i == 0)\n",
        "  d[index]=s\n",
        "\n",
        "amicables = [(a, d[a]) for a in d if d[a] in d and d[d[a]] == a and a != d[a] ] \n",
        "print(amicables)"
      ],
      "execution_count": null,
      "outputs": [
        {
          "output_type": "stream",
          "text": [
            "[(220, 284), (284, 220)]\n"
          ],
          "name": "stdout"
        }
      ]
    },
    {
      "cell_type": "markdown",
      "metadata": {
        "id": "MSso_nauIVCz"
      },
      "source": [
        ""
      ]
    },
    {
      "cell_type": "markdown",
      "metadata": {
        "id": "Uq98t3aPIozE"
      },
      "source": [
        "12)filter function to filter odd numbers\n"
      ]
    },
    {
      "cell_type": "code",
      "metadata": {
        "id": "uHKlN84EIyVw",
        "colab": {
          "base_uri": "https://localhost:8080/",
          "height": 35
        },
        "outputId": "9896bbf4-ccab-4709-f2f8-9d83a8ee7981"
      },
      "source": [
        "def odd_num(num):\n",
        "  return num%2 !=0\n",
        "\n",
        "my_nums =[1,2,3,4,5]\n",
        "list(filter(odd_num,my_nums))"
      ],
      "execution_count": null,
      "outputs": [
        {
          "output_type": "execute_result",
          "data": {
            "text/plain": [
              "[1, 3, 5]"
            ]
          },
          "metadata": {
            "tags": []
          },
          "execution_count": 6
        }
      ]
    },
    {
      "cell_type": "markdown",
      "metadata": {
        "id": "9N-oiZc3M8Sn"
      },
      "source": [
        "13)map() to make a list whose elements are cube of elements in a given list"
      ]
    },
    {
      "cell_type": "code",
      "metadata": {
        "id": "EdvicwibNXPs",
        "colab": {
          "base_uri": "https://localhost:8080/",
          "height": 35
        },
        "outputId": "0a9430f1-dfef-4616-b289-f26ac2e7668f"
      },
      "source": [
        "def cubes(num):\n",
        "  return num**3\n",
        "my_nums =[1,2,3,4,5]\n",
        "list(map(cubes,my_nums))"
      ],
      "execution_count": null,
      "outputs": [
        {
          "output_type": "execute_result",
          "data": {
            "text/plain": [
              "[1, 8, 27, 64, 125]"
            ]
          },
          "metadata": {
            "tags": []
          },
          "execution_count": 7
        }
      ]
    },
    {
      "cell_type": "markdown",
      "metadata": {
        "id": "jgIYvabtN6ff"
      },
      "source": [
        "14)map() and filter() function to to make a list whose elements are cube of even number in a given list"
      ]
    },
    {
      "cell_type": "code",
      "metadata": {
        "id": "WoAhSLIFOawI",
        "colab": {
          "base_uri": "https://localhost:8080/",
          "height": 35
        },
        "outputId": "0faf7c02-d73e-4753-8f8c-8b08af2e5273"
      },
      "source": [
        "def even(num):\n",
        "  return num%2==0\n",
        "def cubes(num):\n",
        "  return num**3\n",
        "my_nums = [1,2,3,4,5,6]\n",
        "list(map(cubes,filter(even,my_nums)))"
      ],
      "execution_count": null,
      "outputs": [
        {
          "output_type": "execute_result",
          "data": {
            "text/plain": [
              "[8, 64, 216]"
            ]
          },
          "metadata": {
            "tags": []
          },
          "execution_count": 11
        }
      ]
    },
    {
      "cell_type": "markdown",
      "metadata": {
        "id": "5Fk7idC4Iowy"
      },
      "source": [
        ""
      ]
    }
  ]
}